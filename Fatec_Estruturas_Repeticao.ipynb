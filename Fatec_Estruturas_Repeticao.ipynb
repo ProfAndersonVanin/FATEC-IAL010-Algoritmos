{
  "nbformat": 4,
  "nbformat_minor": 0,
  "metadata": {
    "colab": {
      "provenance": [],
      "include_colab_link": true
    },
    "kernelspec": {
      "name": "python3",
      "display_name": "Python 3"
    },
    "language_info": {
      "name": "python"
    }
  },
  "cells": [
    {
      "cell_type": "markdown",
      "metadata": {
        "id": "view-in-github",
        "colab_type": "text"
      },
      "source": [
        "<a href=\"https://colab.research.google.com/github/ProfAndersonVanin/FATEC-IAL010-Algoritmos/blob/main/Fatec_Estruturas_Repeticao.ipynb\" target=\"_parent\"><img src=\"https://colab.research.google.com/assets/colab-badge.svg\" alt=\"Open In Colab\"/></a>"
      ]
    },
    {
      "cell_type": "markdown",
      "source": [
        "Nesta aula vamos falar sobre as famosas Estruturas de Repetição (ou loops) do Python: **for, while, for** com **else**, **for** com **range()** e muito mais!\n",
        "\n",
        "Vamos ver também sobre as funções **range()** e **enumerate()** e como construir loops com elas!\n",
        "\n",
        "Loops ou estruturas de repetição são blocos básicos de qualquer linguagem de programação e são muito importantes!\n",
        "\n",
        "Cada linguagem de programação possui uma sintaxe específica para loops."
      ],
      "metadata": {
        "id": "zpM-koV8Jrl2"
      }
    },
    {
      "cell_type": "markdown",
      "source": [
        "# **Introdução**\n",
        "As estruturas de repetição são recursos das linguagens de programação responsáveis por executar um bloco de código repetidamente através de determinadas condições especificas.\n",
        "\n",
        "O Python contém dois tipos de estruturas de repetição: **for** e **while**."
      ],
      "metadata": {
        "id": "L3dNXmpfKDMm"
      }
    },
    {
      "cell_type": "markdown",
      "source": [
        "# **Loops utilizando for**\n",
        "Vamos iniciar pelos detalhes das estruturas de repetição, ou melhor dizendo, os loops utilizando o for.\n",
        "\n",
        "O **for** é utilizado para percorrer ou iterar sobre uma sequência de dados (seja esse uma lista, uma tupla, uma string), executando um conjunto de instruções em cada item.\n",
        "\n",
        "Como você já sabe, o Python utiliza identação para separar blocos de código: nos loops utilizando for não é diferente.\n",
        "\n",
        "Sua sintaxe básica é: **for <nome variável> in <iterável>**. Vamos entender:\n",
        "\n",
        "\n",
        "*   <nome variável> é o nome da variável que vai receber os elemento de <iterável>.\n",
        "*   <iterável> é o container de dados sobre o qual vamos iterar, podendo ser: uma lista, uma tupla, uma string, um dicionário, entre outros.\n",
        "\n",
        "\n",
        "Vamos ver um exemplo, para facilitar nossa vida!"
      ],
      "metadata": {
        "id": "iyc3rbz5KNa0"
      }
    },
    {
      "cell_type": "code",
      "execution_count": null,
      "metadata": {
        "id": "Cd31LpP-IsFz"
      },
      "outputs": [],
      "source": [
        "lista = [1, 2, 3, 4, 5]\n",
        "\n",
        "for item in lista:\n",
        "    print(item)"
      ]
    },
    {
      "cell_type": "markdown",
      "source": [
        "Vamos entender passo a passo:\n",
        "\n",
        "*   Na primeira iteração, item vai receber o valor do primeiro elemento da lista lista, que é 1. Portanto print(item) vai mostrar o valor 1.\n",
        "*   Na segunda iteração, item vai receber o valor do segundo elemento da lista lista, que é 2. Portanto print(item) vai mostrar o valor 2.\n",
        "*   E assim por diante até o último valor, que é 5.\n",
        "\n",
        "Existe outra forma de se utilizar o for que é utilizando a estrutura for/else.\n",
        "\n",
        "Adicionar o else ao final do for nos possibilita executar um bloco de código após o iterável ter sido completamente percorrido.\n",
        "\n",
        "Vamos ao exemplo!"
      ],
      "metadata": {
        "id": "5RZL_mnEKwEX"
      }
    },
    {
      "cell_type": "code",
      "source": [
        "for item in sequencia:\n",
        "    print(item)\n",
        "else:\n",
        "    print('Todos os items foram exibidos com sucesso')"
      ],
      "metadata": {
        "id": "8y0bHwLGLBwz"
      },
      "execution_count": null,
      "outputs": []
    },
    {
      "cell_type": "markdown",
      "source": [
        "# **Exemplos de loops com for**\n",
        "Agora vamos ver alguns exemplo de como podemos percorrer tipos de dados diferentes utilizando o **for**.\n",
        "\n",
        "Para iterar sobre Listas e imprimir cada item da lista:"
      ],
      "metadata": {
        "id": "9ImyBpcOLLY9"
      }
    },
    {
      "cell_type": "code",
      "source": [
        "computador = ['Processador', 'Teclado', 'Mouse']\n",
        "\n",
        "for item in computador:\n",
        "    print(item)"
      ],
      "metadata": {
        "id": "qswVH1wfLPLO"
      },
      "execution_count": null,
      "outputs": []
    },
    {
      "cell_type": "markdown",
      "source": [
        "Podemos também percorrer os dicionários do Python (que são uma estrutura de dados muito importante).\n",
        "\n",
        "Para isso, podemos fazer da seguinte maneira:"
      ],
      "metadata": {
        "id": "k80Daf-iLVYU"
      }
    },
    {
      "cell_type": "code",
      "source": [
        "notas = {\n",
        "    'Potuguês': 7,\n",
        "    'Matemática': 9,\n",
        "    'Lógica': 7,\n",
        "    'Algoritmo': 7\n",
        "}\n",
        "\n",
        "for chave, valor in notas.items():\n",
        "    print(f\"{chave}: {valor}\")"
      ],
      "metadata": {
        "id": "JrG7eTATLYHj"
      },
      "execution_count": null,
      "outputs": []
    },
    {
      "cell_type": "markdown",
      "source": [
        "Também podemos percorrer strings, pois elas também são um tipo iterável:"
      ],
      "metadata": {
        "id": "Mw18zNeGLbSD"
      }
    },
    {
      "cell_type": "code",
      "source": [
        "for caractere in 'Python':\n",
        "    print(caractere)"
      ],
      "metadata": {
        "id": "ADFG4H5ELdz7"
      },
      "execution_count": null,
      "outputs": []
    },
    {
      "cell_type": "markdown",
      "source": [
        "# **Loops utilizando while**\n",
        "O while é uma estrutura de repetição utilizada quando queremos que determinado bloco de código seja executado ENQUANTO (do inglês while) determinada condição for satisfeita.\n",
        "\n",
        "Em outras palavras: só saia da estrutura de repetição quando a condição não for mais satisfeita.\n",
        "\n",
        "Sua sintaxe básica é:"
      ],
      "metadata": {
        "id": "R9MBr0ziLg1D"
      }
    },
    {
      "cell_type": "code",
      "source": [
        "while <condição>:\n",
        "    # Bloco aser executado"
      ],
      "metadata": {
        "id": "DslMvuseLkHb"
      },
      "execution_count": null,
      "outputs": []
    },
    {
      "cell_type": "markdown",
      "source": [
        "Aqui, <condição> é uma expressão que pode ser reduzida à True ou False, podendo ser:\n",
        "\n",
        "*   A verificação do valor de uma variável;\n",
        "*   Determinada estrutura de dados alcançar um tamanho;\n",
        "*   O retorno de uma função se igualar a determinado valor;\n",
        "*   Algum valor externo ser alterado (por exemplo um valor armazenado em Banco de Dados).\n",
        "\n",
        "Vamos entender melhor com um exemplo:"
      ],
      "metadata": {
        "id": "kObH7edcLmqK"
      }
    },
    {
      "cell_type": "code",
      "source": [
        "contador = 0\n",
        "\n",
        "while contador < 10:\n",
        "    print(f'Valor do contador é {contador}')\n",
        "    contador += 1"
      ],
      "metadata": {
        "id": "UWAr7bKEL00k"
      },
      "execution_count": null,
      "outputs": []
    },
    {
      "cell_type": "markdown",
      "source": [
        "Ou seja, a variável contador está sendo incrementada a cada vez que o while executa seu código.\n",
        "\n",
        "Quando ele alcançar o valor 10, a condição contador < 10 não será mais satisfeita, finalizando o bloco while!\n",
        "\n",
        "Assim como no for, podemos utilizar o else também nos loops while.\n",
        "\n",
        "Vamos usar o mesmo código do exemplo acima para você entender a diferença:"
      ],
      "metadata": {
        "id": "UgqOdUacL8k8"
      }
    },
    {
      "cell_type": "code",
      "source": [
        "contador = 0\n",
        "\n",
        "while contador < 10:\n",
        "    contador += 1\n",
        "    print(f'Valor do contador é {contador}')\n",
        "else:\n",
        "    print(f'Fim do while e o valor do contador é {contador}')"
      ],
      "metadata": {
        "id": "lsL_kiD4MAo6"
      },
      "execution_count": null,
      "outputs": []
    },
    {
      "cell_type": "markdown",
      "source": [
        "# **Auxiliadores**\n",
        "Existem 3 comandos que nos auxiliam quando queremos alterar o fluxo de uma estrutura de repetição.\n",
        "\n",
        "São eles: **break, continue e pass**.\n",
        "\n",
        "Esses auxiliares não funcionam diretamente com o while, e por isso encaixar eles no bloco principal do while pode ser tanto quanto inútil, já que a condição especificada encerra o loop.\n",
        "\n",
        "# **Auxiliador break**\n",
        "É usado para finalizar um loop, isto é, é usado para parar sua execução.\n",
        "\n",
        "Geralmente vem acompanhado de alguma condição para isso, com um **if**.\n",
        "\n",
        "Veja um exemplo:"
      ],
      "metadata": {
        "id": "9DHW-i-QME5D"
      }
    },
    {
      "cell_type": "code",
      "source": [
        "for num in range(10):\n",
        "    # Se o número for igual a = 5, devemos parar o loop\n",
        "    if num == 5:\n",
        "        # Break faz o loop finalizar\n",
        "        break\n",
        "    else:\n",
        "        print(num)"
      ],
      "metadata": {
        "id": "OlUVedSoMK1h"
      },
      "execution_count": null,
      "outputs": []
    },
    {
      "cell_type": "markdown",
      "source": [
        "Percebeu que o loop não chegou ao final?! Para isso utilizamos o **break**!\n",
        "\n",
        "Já com **while**, também podemos utilizar o **break** em uma condição utilizando **if**, assim:"
      ],
      "metadata": {
        "id": "EeRpOEAbMQXz"
      }
    },
    {
      "cell_type": "code",
      "source": [
        "num = 0\n",
        "while num < 5:\n",
        "    num += 1\n",
        "\n",
        "    if num == 3:\n",
        "        break\n",
        "\n",
        "    print(num)"
      ],
      "metadata": {
        "id": "EESUT1A6MYy7"
      },
      "execution_count": null,
      "outputs": []
    },
    {
      "cell_type": "markdown",
      "source": [
        "# **Auxiliador continue**\n",
        "Funciona de maneira similar ao break, contudo ao invés de encerrar o loop ele pula todo código que estiver abaixo dele (dentro do loop) partindo para a próxima iteração.\n",
        "\n",
        "Vamos ao exemplo:"
      ],
      "metadata": {
        "id": "ZVN6BRHAMcpi"
      }
    },
    {
      "cell_type": "code",
      "source": [
        "for num in range(5):\n",
        "    if num == 3:\n",
        "        print(\"Encontrei o 3\")\n",
        "        # Executa o continue, pulando para o próximo laço\n",
        "        continue\n",
        "    else:\n",
        "        print(num)\n",
        "\n",
        "    print(\"Estou abaixo do IF\")"
      ],
      "metadata": {
        "id": "q01FGCg0Mgta"
      },
      "execution_count": null,
      "outputs": []
    },
    {
      "cell_type": "markdown",
      "source": [
        "Em loops com while a lógica é a mesma. O continue irá finalizar o loop atual, iniciando novamente no início do while.\n",
        "\n",
        "Veja o exemplo:"
      ],
      "metadata": {
        "id": "KyIajqi4MlQz"
      }
    },
    {
      "cell_type": "code",
      "source": [
        "num = 0\n",
        "while num < 5:\n",
        "    num += 1\n",
        "\n",
        "    if num == 3:\n",
        "        continue\n",
        "\n",
        "    print(num)"
      ],
      "metadata": {
        "id": "HtTazd5VMnSy"
      },
      "execution_count": null,
      "outputs": []
    },
    {
      "cell_type": "markdown",
      "source": [
        "# **Auxiliador pass**\n",
        "O pass nada mais é que uma forma de fazer um código que não realiza operação nenhuma.\n",
        "\n",
        "Mas calma, ele tem uma razão de existir no Python!\n",
        "\n",
        "Como os escopos de Classes, Funções, If/Else e loops for/while são definidos pela indentação do código (e não por chaves {} como geralmente se vê em outras linguagens de programação), usamos o pass para dizer ao Python que o bloco de código está vazio.\n",
        "\n",
        "Veja alguns exemplos:"
      ],
      "metadata": {
        "id": "VkWMKziKMqC7"
      }
    },
    {
      "cell_type": "code",
      "source": [
        "for item in range(5000):\n",
        "    pass\n",
        "\n",
        "while False:\n",
        "    pass\n",
        "\n",
        "class Classe:\n",
        "    pass\n",
        "\n",
        "if True:\n",
        "    pass\n",
        "else:\n",
        "    pass\n",
        "\n",
        "def funcao():\n",
        "    pass"
      ],
      "metadata": {
        "id": "HA46uqfPMwjM"
      },
      "execution_count": null,
      "outputs": []
    },
    {
      "cell_type": "markdown",
      "source": [
        "Caso não utilizemos o pass, veja o que acontece:"
      ],
      "metadata": {
        "id": "LrKcpGnFM0h7"
      }
    },
    {
      "cell_type": "code",
      "source": [
        "class Classe:\n",
        "\n",
        "def funcao():\n",
        "    pass"
      ],
      "metadata": {
        "id": "wJDNMNHMM23i"
      },
      "execution_count": null,
      "outputs": []
    },
    {
      "cell_type": "markdown",
      "source": [
        "Isso acontece pois o Python entende que as próximas linhas de código fazem parte do mesmo escopo, mas como não estão indentadas um erro IndentationError é lançado."
      ],
      "metadata": {
        "id": "4g4JJko9M87N"
      }
    },
    {
      "cell_type": "markdown",
      "source": [
        "# **A função range()**\n",
        "A função range é de grande ajuda quando o tema é repetição, laços, for etc…\n",
        "\n",
        "Ela gera uma sequência de números pela qual podemos iterar!\n",
        "\n",
        "Com ela, conseguimos especificar:\n",
        "\n",
        "*   O inicio de uma sequência;\n",
        "*   O passo (ou pulo); e\n",
        "*   O valor final da sequência.\n",
        "\n",
        "Com isso o Python nos entrega uma sequência de números para utilizarmos!"
      ],
      "metadata": {
        "id": "N3vQfYGwNBcC"
      }
    },
    {
      "cell_type": "markdown",
      "source": [
        "# **Funcão enumerate()**\n",
        "Uma dica bem bacana para se usar com o for, é a função enumerate().\n",
        "\n",
        "Ela nos entrega um contador embutido no próprio for! :heart_eyes:\n",
        "\n",
        "Ao invés de fazer isso:"
      ],
      "metadata": {
        "id": "HdqH6WK3NOIK"
      }
    },
    {
      "cell_type": "code",
      "source": [
        "contador = 0\n",
        "computador = ['Processador', 'Teclado', 'Mouse']\n",
        "\n",
        "for elemento in computador:\n",
        "    print(f\"Índice={contador} | Valor={elemento}\")\n",
        "    contador += 1"
      ],
      "metadata": {
        "id": "5JJaDZxqNRup"
      },
      "execution_count": null,
      "outputs": []
    },
    {
      "cell_type": "markdown",
      "source": [
        "Jogue esse contador fora e faça isso:"
      ],
      "metadata": {
        "id": "X6Oo9sFZNUKq"
      }
    },
    {
      "cell_type": "code",
      "source": [
        "computador = ['Processador', 'Teclado', 'Mouse']\n",
        "for indice, valor in enumerate(computador):\n",
        "    print(f\"Índice={indice} | Valor={valor}\")"
      ],
      "metadata": {
        "id": "mpAlYWLjNWuK"
      },
      "execution_count": null,
      "outputs": []
    },
    {
      "cell_type": "markdown",
      "source": [
        "Outra maneira de iterar sobre os índices, é combinar as funções range() e len().\n",
        "\n",
        "A função len() retorna o tamanho de um iterável (lista, tupla, set).\n",
        "\n",
        "Podemos combiná-los da seguinte forma:"
      ],
      "metadata": {
        "id": "XWbs7jEPNa0i"
      }
    },
    {
      "cell_type": "code",
      "source": [
        "computador = ['Processador', 'Teclado', 'Mouse']\n",
        "for indice in range(len(computador)):\n",
        "    print(f\"Índice={indice} | valor={computador[indice]}\")\n"
      ],
      "metadata": {
        "id": "-myY3nVRNdWy"
      },
      "execution_count": null,
      "outputs": []
    }
  ]
}