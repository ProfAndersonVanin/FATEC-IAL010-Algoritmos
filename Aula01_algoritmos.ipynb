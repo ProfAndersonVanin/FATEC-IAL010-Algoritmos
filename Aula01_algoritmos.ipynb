{
  "nbformat": 4,
  "nbformat_minor": 0,
  "metadata": {
    "colab": {
      "provenance": [],
      "authorship_tag": "ABX9TyOdWXI2f99iGi1O1GmhRt9e",
      "include_colab_link": true
    },
    "kernelspec": {
      "name": "python3",
      "display_name": "Python 3"
    },
    "language_info": {
      "name": "python"
    }
  },
  "cells": [
    {
      "cell_type": "markdown",
      "metadata": {
        "id": "view-in-github",
        "colab_type": "text"
      },
      "source": [
        "<a href=\"https://colab.research.google.com/github/ProfAndersonVanin/FATEC-IAL010-Algoritmos/blob/main/Aula01_algoritmos.ipynb\" target=\"_parent\"><img src=\"https://colab.research.google.com/assets/colab-badge.svg\" alt=\"Open In Colab\"/></a>"
      ]
    },
    {
      "cell_type": "code",
      "execution_count": 1,
      "metadata": {
        "colab": {
          "base_uri": "https://localhost:8080/"
        },
        "id": "CsDPV3sCvnQS",
        "outputId": "b76d944d-fd26-4773-8dfe-e4ffc6f419b0"
      },
      "outputs": [
        {
          "output_type": "execute_result",
          "data": {
            "text/plain": [
              "22"
            ]
          },
          "metadata": {},
          "execution_count": 1
        }
      ],
      "source": [
        "12+10"
      ]
    },
    {
      "cell_type": "markdown",
      "source": [
        "**bzgnzbxnvcbxnzcbvnbxzcv**"
      ],
      "metadata": {
        "id": "mLFYf6Tfw7_B"
      }
    },
    {
      "cell_type": "code",
      "source": [
        "print(\"Escrevendo qualquer coisa\")"
      ],
      "metadata": {
        "colab": {
          "base_uri": "https://localhost:8080/"
        },
        "id": "mv9pR-wGxHrF",
        "outputId": "e0c59202-9fac-4c29-c0a9-0c2f37ec938f"
      },
      "execution_count": 2,
      "outputs": [
        {
          "output_type": "stream",
          "name": "stdout",
          "text": [
            "Escrevendo qualquer coisa\n"
          ]
        }
      ]
    },
    {
      "cell_type": "markdown",
      "source": [
        "Exemplo de somar dois números"
      ],
      "metadata": {
        "id": "9DawBVsWxgrt"
      }
    },
    {
      "cell_type": "code",
      "source": [
        "x = 8\n",
        "y = 10"
      ],
      "metadata": {
        "id": "OlBGGDtsxjJw"
      },
      "execution_count": 6,
      "outputs": []
    },
    {
      "cell_type": "code",
      "source": [
        "print(x)"
      ],
      "metadata": {
        "colab": {
          "base_uri": "https://localhost:8080/"
        },
        "id": "l5BsVgZax3Y8",
        "outputId": "8d1ba1e7-e464-4b17-a0aa-fe27a041a06a"
      },
      "execution_count": 7,
      "outputs": [
        {
          "output_type": "stream",
          "name": "stdout",
          "text": [
            "8\n"
          ]
        }
      ]
    },
    {
      "cell_type": "code",
      "source": [
        "x"
      ],
      "metadata": {
        "colab": {
          "base_uri": "https://localhost:8080/"
        },
        "id": "RxitJHFRx-jM",
        "outputId": "9409ccf1-3f70-40e7-af54-b9657ad155f7"
      },
      "execution_count": 9,
      "outputs": [
        {
          "output_type": "execute_result",
          "data": {
            "text/plain": [
              "8"
            ]
          },
          "metadata": {},
          "execution_count": 9
        }
      ]
    },
    {
      "cell_type": "code",
      "source": [
        "soma = x + y\n",
        "#print(soma)\n",
        "soma"
      ],
      "metadata": {
        "colab": {
          "base_uri": "https://localhost:8080/"
        },
        "id": "2VbaJ8kEyhPp",
        "outputId": "b74fa743-fbc7-463d-da22-df4a4dc26280"
      },
      "execution_count": 12,
      "outputs": [
        {
          "output_type": "execute_result",
          "data": {
            "text/plain": [
              "18"
            ]
          },
          "metadata": {},
          "execution_count": 12
        }
      ]
    },
    {
      "cell_type": "code",
      "source": [
        "num1 = input(\"Digite o num1\")\n",
        "num2 = input(\"Digite o num2\")\n",
        "soma = num1 + num2\n",
        "print(\"A soma é: \",soma)"
      ],
      "metadata": {
        "colab": {
          "base_uri": "https://localhost:8080/"
        },
        "id": "T_wBf4kqy5Gq",
        "outputId": "e2b71989-1426-42c4-fbe3-c1d153cfad3e"
      },
      "execution_count": 14,
      "outputs": [
        {
          "output_type": "stream",
          "name": "stdout",
          "text": [
            "Digite o num112\n",
            "Digite o num225\n",
            "A soma é:  1225\n"
          ]
        }
      ]
    },
    {
      "cell_type": "code",
      "source": [
        "type(num1)"
      ],
      "metadata": {
        "colab": {
          "base_uri": "https://localhost:8080/"
        },
        "id": "Ikyynpg80rkL",
        "outputId": "5c2eebcc-e5d2-4938-d6a8-66e118555956"
      },
      "execution_count": 17,
      "outputs": [
        {
          "output_type": "execute_result",
          "data": {
            "text/plain": [
              "int"
            ]
          },
          "metadata": {},
          "execution_count": 17
        }
      ]
    },
    {
      "cell_type": "code",
      "source": [
        "num1 = int(input(\"Digite o num1\"))\n",
        "num2 = int(input(\"Digite o num2\"))\n",
        "soma = num1 + num2\n",
        "print(\"A soma é: \",soma)"
      ],
      "metadata": {
        "colab": {
          "base_uri": "https://localhost:8080/"
        },
        "id": "emkVr7R41EdV",
        "outputId": "42bef3a0-9154-4dac-90ec-ce9f8e3e7f56"
      },
      "execution_count": 16,
      "outputs": [
        {
          "output_type": "stream",
          "name": "stdout",
          "text": [
            "Digite o num115\n",
            "Digite o num210\n",
            "A soma é:  25\n"
          ]
        }
      ]
    },
    {
      "cell_type": "markdown",
      "source": [
        "Exemplo 02 - mostrar o maior número"
      ],
      "metadata": {
        "id": "hAdmE2ax13zb"
      }
    },
    {
      "cell_type": "code",
      "source": [
        "n1 = int(input(\"Digite N1: \"))\n",
        "n2 = int(input(\"Digite N2: \"))\n",
        "\n",
        "if (n1>n2):\n",
        "  print('O maior é n1',n1)\n",
        "else:\n",
        "  if (n1 == n2):\n",
        "    print('São iguais')\n",
        "  else:\n",
        "    print('O maior é n2',n2)\n",
        "\n",
        "print(\"Acabou o programa\")"
      ],
      "metadata": {
        "colab": {
          "base_uri": "https://localhost:8080/"
        },
        "id": "c-a8dZfT18Y3",
        "outputId": "761ffb3a-f99a-4f70-8779-33586bd0a9ed"
      },
      "execution_count": 19,
      "outputs": [
        {
          "output_type": "stream",
          "name": "stdout",
          "text": [
            "Digite N1: 12\n",
            "Digite N2: 12\n",
            "12\n",
            "Acabou o programa\n"
          ]
        }
      ]
    }
  ]
}